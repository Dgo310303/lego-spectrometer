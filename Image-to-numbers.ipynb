{
 "cells": [
  {
   "cell_type": "markdown",
   "metadata": {},
   "source": [
    "Run the first code cell when opening this script for the first time. Run a code cell by clicking the cell to select it, then pressing the Run button in the toolbar above this text. The first code cell should only need to be run once when this page is first loaded. \n",
    "\n",
    "**When a code cell is running, an asterisk [\\*] will appear next to it in the brackets. When it is finished, a number will appear in the brackets instead.**"
   ]
  },
  {
   "cell_type": "code",
   "execution_count": null,
   "metadata": {},
   "outputs": [],
   "source": [
    "import sys\n",
    "!conda install --yes --prefix {sys.prefix} numpy\n",
    "!conda install --yes --prefix {sys.prefix} pillow\n",
    "import numpy as np\n",
    "from PIL import Image"
   ]
  },
  {
   "cell_type": "markdown",
   "metadata": {},
   "source": [
    "While the appropriate modules are imported, upload the spectrum image to the Jupyter folder in the previous tab (Home tab). Check there are no errors. \n",
    "\n",
    "Make sure the name cell below matches that of your image file, excluding the file extension. Make sure to run the code cell."
   ]
  },
  {
   "cell_type": "code",
   "execution_count": null,
   "metadata": {},
   "outputs": [],
   "source": [
    "name = \"image_name_here\""
   ]
  },
  {
   "cell_type": "markdown",
   "metadata": {},
   "source": [
    "Run the code cell below to convert the image (in .jpg format) to a 1D array. Pixel intensities are summed down each column of pixels in the image. The final line saves the output as a .txt file in the Home tab where you uploaded your image.\n",
    "\n",
    "When analysing supsequent images, only the second and third code cells must be run again."
   ]
  },
  {
   "cell_type": "code",
   "execution_count": null,
   "metadata": {},
   "outputs": [],
   "source": [
    "img = Image.open(name + \".jpg\").convert('L') #'L' converts a colour image in RGB image to greyscale\n",
    "vals = np.array(img)\n",
    "\n",
    "pix_array = np.zeros(vals.shape[1])\n",
    "\n",
    "for i in range(vals.shape[1]):\n",
    "    pix_array[i] = np.sum(vals[:,i])\n",
    "\n",
    "np.savetxt(r'%s_1D_array.txt' %(name), pix_array, fmt='%i', delimiter = '\\t')"
   ]
  }
 ],
 "metadata": {
  "kernelspec": {
   "display_name": "Python 3",
   "language": "python",
   "name": "python3"
  },
  "language_info": {
   "codemirror_mode": {
    "name": "ipython",
    "version": 3
   },
   "file_extension": ".py",
   "mimetype": "text/x-python",
   "name": "python",
   "nbconvert_exporter": "python",
   "pygments_lexer": "ipython3",
   "version": "3.6.5"
  }
 },
 "nbformat": 4,
 "nbformat_minor": 2
}
